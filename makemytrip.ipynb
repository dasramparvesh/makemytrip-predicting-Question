{
 "cells": [
  {
   "cell_type": "code",
   "execution_count": 319,
   "metadata": {},
   "outputs": [],
   "source": [
    "import numpy as np # linear algebra \n",
    "import pandas as pd # data processing, CSV file I/O (e.g. pd.read_csv) \n",
    "import os \n",
    "import gc \n",
    "import matplotlib.pyplot as plt \n",
    "import seaborn as sns\n",
    "import math\n",
    "\n",
    "# machine learning\n",
    "import sklearn\n",
    "from sklearn.linear_model import LogisticRegression\n",
    "from sklearn.svm import SVC, LinearSVC\n",
    "from sklearn.ensemble import GradientBoostingClassifier\n",
    "from sklearn.ensemble import AdaBoostClassifier\n",
    "from sklearn.neighbors import KNeighborsClassifier\n",
    "from sklearn.naive_bayes import GaussianNB\n",
    "from sklearn.metrics import classification_report\n",
    "from sklearn.metrics import confusion_matrix\n",
    "from sklearn.metrics import accuracy_score\n",
    "from sklearn.model_selection import train_test_split\n",
    "from sklearn import model_selection\n",
    "from sklearn.ensemble import RandomForestClassifier\n",
    "from sklearn.discriminant_analysis import LinearDiscriminantAnalysis\n",
    "%matplotlib inline\n",
    "%config InlineBackend.figure_format = 'retina'"
   ]
  },
  {
   "cell_type": "code",
   "execution_count": 320,
   "metadata": {},
   "outputs": [],
   "source": [
    "data=pd.read_csv('dataset/train.csv')\n",
    "test=pd.read_csv('dataset/test.csv')"
   ]
  },
  {
   "cell_type": "code",
   "execution_count": 321,
   "metadata": {},
   "outputs": [],
   "source": [
    "## filling missing data in A column with mode of A.\n",
    "trainaa=data.A.mode()[0]\n",
    "data.A = data.A.fillna(value=trainaa)\n",
    "\n",
    "testaa=test.A.mode()[0]\n",
    "test.A = test.A.fillna(value=testaa)"
   ]
  },
  {
   "cell_type": "code",
   "execution_count": 322,
   "metadata": {
    "scrolled": true
   },
   "outputs": [],
   "source": [
    "data.B.describe()\n",
    "## filling missing data in B column with mean of B.\n",
    "trainbb=data.B.mean()\n",
    "data.B = data.B.fillna(value=trainbb)\n",
    "\n",
    "testbb=test.B.mean()\n",
    "test.B = test.B.fillna(value=testbb)"
   ]
  },
  {
   "cell_type": "code",
   "execution_count": null,
   "metadata": {},
   "outputs": [],
   "source": []
  },
  {
   "cell_type": "code",
   "execution_count": 323,
   "metadata": {},
   "outputs": [],
   "source": [
    "#tes.dropna()\n",
    "#tes.isnull().sum()\n",
    "#data.dropna(subset=['A', 'I','J','L'])\n",
    "#tes.dropna(subset=['A','I','J','L'])\n",
    "data.D.unique()\n",
    "\n",
    "traindd=data.D.mode()[0]\n",
    "data.D = data.D.fillna(value=traindd)\n",
    "\n",
    "testdd=test.D.mode()[0]\n",
    "test.D = test.D.fillna(value=testdd)\n"
   ]
  },
  {
   "cell_type": "code",
   "execution_count": 324,
   "metadata": {},
   "outputs": [],
   "source": [
    "data.E.unique()\n",
    "\n",
    "trainee=data.E.mode()[0]\n",
    "data.E = data.E.fillna(value=trainee)\n",
    "\n",
    "testee=test.E.mode()[0]\n",
    "test.E = test.E.fillna(value=testee)"
   ]
  },
  {
   "cell_type": "code",
   "execution_count": 325,
   "metadata": {},
   "outputs": [
    {
     "data": {
      "text/plain": [
       "u    421\n",
       "y    129\n",
       "l      2\n",
       "Name: D, dtype: int64"
      ]
     },
     "execution_count": 325,
     "metadata": {},
     "output_type": "execute_result"
    }
   ],
   "source": [
    "#tes.isnull().sum()\n",
    "#finding no of missing values\n",
    "data.D.value_counts()\n"
   ]
  },
  {
   "cell_type": "code",
   "execution_count": 326,
   "metadata": {},
   "outputs": [],
   "source": [
    "data.F.unique()\n",
    "\n",
    "trainff=data.F.mode()[0]\n",
    "data.F = data.F.fillna(value=trainff)\n",
    "\n",
    "testff=test.F.mode()[0]\n",
    "test.F = test.F.fillna(value=testff)"
   ]
  },
  {
   "cell_type": "code",
   "execution_count": 327,
   "metadata": {},
   "outputs": [],
   "source": [
    "data.G.unique()\n",
    "\n",
    "traingg=data.G.mode()[0]\n",
    "data.G = data.G.fillna(value=traingg)\n",
    "\n",
    "testgg=test.G.mode()[0]\n",
    "test.G = test.G.fillna(value=testgg)"
   ]
  },
  {
   "cell_type": "code",
   "execution_count": 328,
   "metadata": {},
   "outputs": [],
   "source": [
    "data.N.describe()\n",
    "\n",
    "trainnn=data.N.mean()\n",
    "data.N = data.N.fillna(value=trainnn)\n",
    "\n",
    "testnn=test.N.mean()\n",
    "test.N = test.N.fillna(value=testnn)"
   ]
  },
  {
   "cell_type": "code",
   "execution_count": 329,
   "metadata": {},
   "outputs": [
    {
     "data": {
      "text/plain": [
       "array(['g', 's', 'p'], dtype=object)"
      ]
     },
     "execution_count": 329,
     "metadata": {},
     "output_type": "execute_result"
    }
   ],
   "source": [
    "data.M.unique()\n",
    "data.dropna(inplace=True,how='all',thresh=None)\n",
    "test.dropna(inplace=True,how='all',thresh=None)\n",
    "data.M.unique()"
   ]
  },
  {
   "cell_type": "code",
   "execution_count": 330,
   "metadata": {
    "scrolled": true
   },
   "outputs": [],
   "source": [
    "#converting binary values into 1's and 0's\n",
    "data['A'] = data['A'].map( {'a': 0, 'b': 1} ).astype(int)\n",
    "test['A'] = test['A'].map( {'a': 0, 'b': 1} ).astype(int)\n",
    "\n"
   ]
  },
  {
   "cell_type": "code",
   "execution_count": 331,
   "metadata": {},
   "outputs": [],
   "source": [
    "\n",
    "data['I'] = data['I'].map( {'f': 0, 't': 1} ).astype(int)\n",
    "test['I'] = test['I'].map( {'f': 0, 't': 1} ).astype(int)\n",
    "\n",
    "data['J'] = data['J'].map( {'f': 0, 't': 1} ).astype(int)\n",
    "test['J'] = test['J'].map( {'f': 0, 't': 1} ).astype(int)\n",
    "\n",
    "data['L'] = data['L'].map( {'f': 0, 't': 1} ).astype(int)\n",
    "test['L'] = test['L'].map( {'f': 0, 't': 1} ).astype(int)\n",
    "\n",
    "\n",
    "data['D'] = data['D'].map( {'y': 0, 'u': 1, 'l': 2} ).astype(int)\n",
    "test['D'] = test['D'].map( {'y': 0, 'u': 1, 'l': 2} ).astype(int)\n",
    "\n",
    "\n",
    "\n",
    "data['E'] = data['E'].map( {'p': 0, 'g': 1, 'gg': 2} ).astype(int)\n",
    "test['E'] = test['E'].map( {'p': 0, 'g': 1, 'gg': 2} ).astype(int)\n",
    "\n",
    "data['M'] = data['M'].map( {'g': 0, 's': 1, 'p': 2} ).astype(int)\n",
    "test['M'] = test['M'].map( {'g': 0, 's': 1, 'p': 2} ).astype(int)\n",
    "\n",
    "\n",
    "\n",
    "\n"
   ]
  },
  {
   "cell_type": "code",
   "execution_count": 332,
   "metadata": {},
   "outputs": [],
   "source": [
    "data['B'] = data['B'].astype(int)\n",
    "data.loc[ data['B'] <= 28, 'B'] = 0\n",
    "data.loc[(data['B'] > 28) & (data['B'] <= 42), 'B'] = 1\n",
    "data.loc[(data['B'] > 42) & (data['B'] <= 56), 'B'] = 2\n",
    "data.loc[(data['B'] > 56) & (data['B'] <= 70), 'B'] = 3\n",
    "data.loc[ data['B'] > 70, 'B']=4\n",
    "\n",
    "test['B'] = test['B'].astype(int)\n",
    "test.loc[ test['B'] <= 28, 'B'] = 0\n",
    "test.loc[(test['B'] > 28) & (test['B'] <= 42), 'B'] = 1\n",
    "test.loc[(test['B'] > 42) & (test['B'] <= 56), 'B'] = 2\n",
    "test.loc[(test['B'] > 56) & (test['B'] <= 70), 'B'] = 3\n",
    "test.loc[ test['B'] > 70, 'B']=4"
   ]
  },
  {
   "cell_type": "code",
   "execution_count": 333,
   "metadata": {},
   "outputs": [],
   "source": [
    "data['C'] = data['C'].astype(int)\n",
    "data.loc[ data['C'] <= 7, 'C'] = 0\n",
    "data.loc[(data['C'] > 7) & (data['C'] <= 14), 'C'] = 1\n",
    "data.loc[(data['C'] > 14) & (data['C'] <= 21), 'C'] = 2\n",
    "data.loc[ data['C'] > 21, 'C']=3\n",
    "\n",
    "\n",
    "\n",
    "test['C'] = test['C'].astype(int)\n",
    "test.loc[ test['C'] <= 7, 'C'] = 0\n",
    "test.loc[(test['C'] > 7) & (test['C'] <= 14), 'C'] = 1\n",
    "test.loc[(test['C'] > 14) & (test['C'] <= 21), 'C'] = 2\n",
    "test.loc[ test['C'] > 21, 'C']=3\n",
    "\n",
    "\n",
    "data['H'] = data['H'].astype(int)\n",
    "data.loc[ data['H'] <= 7, 'H'] = 0\n",
    "data.loc[(data['H'] > 7) & (data['H'] <= 14), 'H'] = 1\n",
    "data.loc[(data['H'] > 14) & (data['H'] <= 21), 'H'] = 2\n",
    "data.loc[ data['H'] > 21, 'H']=3\n",
    "\n",
    "\n",
    "\n",
    "test['H'] = test['H'].astype(int)\n",
    "test.loc[ test['H'] <= 7, 'H'] = 0\n",
    "test.loc[(test['H'] > 7) & (test['H'] <= 14), 'H'] = 1\n",
    "test.loc[(test['H'] > 14) & (test['H'] <= 21), 'H'] = 2\n",
    "test.loc[ test['H'] > 21, 'H']=3\n",
    "\n",
    "\n",
    "\n",
    "data['G'] = data['G'].map( {'v': 0, 'h': 1, 'bb': 2,'ff':3,'z':4,'j':5,'dd':6 ,'n':7,'o':8 } ).astype(int)\n",
    "test['G'] = test['G'].map( {'v': 0, 'h': 1, 'bb': 2,'ff':3,'z':4,'j':5, 'dd':6,'n':7,'o':8 } ).astype(int)\n",
    "\n",
    "\n",
    "\n",
    "#data.N.describe()"
   ]
  },
  {
   "cell_type": "code",
   "execution_count": 334,
   "metadata": {},
   "outputs": [],
   "source": [
    "#data['F'] = data['F'].map( {'c': 0, 'q': 1, 'w': 2,'ff':3,'i':4,'k':5,'aa':6,'x':7,'m':8,'d':9,'e':10,'j':11,'r':12} ).astype(int)\n",
    "#test['F'] = test['F'].map( {'c': 0, 'q': 1, 'w': 2,'ff':3,'i':4,'k':5,'aa':6,'x':7,'m':8,'d':9,'e':10,'j':11,'r':12} ).astype(int)"
   ]
  },
  {
   "cell_type": "code",
   "execution_count": 335,
   "metadata": {},
   "outputs": [],
   "source": [
    "#data.N.value_counts()\n",
    "#filling data N with mean \n",
    "#data.N.fillna(175)\n",
    "#data.E.unique()"
   ]
  },
  {
   "cell_type": "code",
   "execution_count": 336,
   "metadata": {},
   "outputs": [],
   "source": [
    "# drop unnecessary columns, these columns won't be useful in analysis and prediction\n",
    "data = data.drop(['id','F','N','O'], axis=1)\n",
    "test = test.drop(['F','N','O'], axis=1)\n"
   ]
  },
  {
   "cell_type": "code",
   "execution_count": 337,
   "metadata": {},
   "outputs": [],
   "source": [
    "X_train = data.drop(\"P\",axis=1)\n",
    "Y_train = data[\"P\"]\n",
    "X_test  = test.drop(\"id\",axis=1).copy()"
   ]
  },
  {
   "cell_type": "code",
   "execution_count": 338,
   "metadata": {},
   "outputs": [
    {
     "name": "stdout",
     "output_type": "stream",
     "text": [
      "('logistic regression : ', 85.33)\n"
     ]
    }
   ],
   "source": [
    "logreg = LogisticRegression()\n",
    "logreg.fit(X_train, Y_train)\n",
    "Y_pred = logreg.predict(X_test)\n",
    "acc_log = round(logreg.score(X_train, Y_train) * 100, 2)\n",
    "\n",
    "print(\"logistic regression : \",acc_log)"
   ]
  },
  {
   "cell_type": "code",
   "execution_count": 339,
   "metadata": {},
   "outputs": [
    {
     "name": "stdout",
     "output_type": "stream",
     "text": [
      "('Random Forest : ', 94.93)\n"
     ]
    }
   ],
   "source": [
    "# Random Forest\n",
    "\n",
    "random_forest = RandomForestClassifier(n_estimators=100)\n",
    "random_forest.fit(X_train, Y_train)\n",
    "Y_pred = random_forest.predict(X_test)\n",
    "random_forest.score(X_train, Y_train)\n",
    "acc_random_forest = round(random_forest.score(X_train, Y_train) * 100, 2)\n",
    "print(\"Random Forest : \" , acc_random_forest)"
   ]
  },
  {
   "cell_type": "code",
   "execution_count": 340,
   "metadata": {},
   "outputs": [
    {
     "name": "stdout",
     "output_type": "stream",
     "text": [
      "('Gradient Boost: ', 91.3)\n"
     ]
    }
   ],
   "source": [
    "gradient_boost = GradientBoostingClassifier(n_estimators=100)\n",
    "gradient_boost.fit(X_train, Y_train)\n",
    "\n",
    "Y_pred_2 = gradient_boost.predict(X_test)\n",
    "\n",
    "grad=round(gradient_boost.score(X_train, Y_train)*100,2)\n",
    "print (\"Gradient Boost: \",grad)"
   ]
  },
  {
   "cell_type": "code",
   "execution_count": null,
   "metadata": {},
   "outputs": [],
   "source": []
  },
  {
   "cell_type": "code",
   "execution_count": 341,
   "metadata": {},
   "outputs": [
    {
     "name": "stdout",
     "output_type": "stream",
     "text": [
      "('k-NN : ', 88.04)\n"
     ]
    }
   ],
   "source": [
    "# k-NN\n",
    "knn = KNeighborsClassifier(n_neighbors = 3)\n",
    "knn.fit(X_train, Y_train)\n",
    "Y_pred = knn.predict(X_test)\n",
    "acc_knn = round(knn.score(X_train, Y_train) * 100, 2)\n",
    "\n",
    "print(\"k-NN : \",acc_knn)"
   ]
  },
  {
   "cell_type": "code",
   "execution_count": 342,
   "metadata": {},
   "outputs": [
    {
     "data": {
      "text/html": [
       "<div>\n",
       "<table border=\"1\" class=\"dataframe\">\n",
       "  <thead>\n",
       "    <tr style=\"text-align: right;\">\n",
       "      <th></th>\n",
       "      <th>Model</th>\n",
       "      <th>Score</th>\n",
       "    </tr>\n",
       "  </thead>\n",
       "  <tbody>\n",
       "    <tr>\n",
       "      <th>2</th>\n",
       "      <td>Random Forest</td>\n",
       "      <td>94.93</td>\n",
       "    </tr>\n",
       "    <tr>\n",
       "      <th>3</th>\n",
       "      <td>gradient_boost</td>\n",
       "      <td>91.30</td>\n",
       "    </tr>\n",
       "    <tr>\n",
       "      <th>0</th>\n",
       "      <td>KNN</td>\n",
       "      <td>88.04</td>\n",
       "    </tr>\n",
       "    <tr>\n",
       "      <th>1</th>\n",
       "      <td>Logistic Regression</td>\n",
       "      <td>85.33</td>\n",
       "    </tr>\n",
       "  </tbody>\n",
       "</table>\n",
       "</div>"
      ],
      "text/plain": [
       "                 Model  Score\n",
       "2        Random Forest  94.93\n",
       "3       gradient_boost  91.30\n",
       "0                  KNN  88.04\n",
       "1  Logistic Regression  85.33"
      ]
     },
     "execution_count": 342,
     "metadata": {},
     "output_type": "execute_result"
    }
   ],
   "source": [
    "models = pd.DataFrame({\n",
    "    'Model': [ 'KNN', 'Logistic Regression', \n",
    "              'Random Forest','gradient_boost'],\n",
    "    'Score': [ acc_knn, acc_log, \n",
    "              acc_random_forest,grad]})\n",
    "models.sort_values(by='Score', ascending=False)"
   ]
  },
  {
   "cell_type": "code",
   "execution_count": 343,
   "metadata": {},
   "outputs": [],
   "source": [
    "submission = pd.DataFrame({\n",
    "        \"id\": test[\"id\"],\n",
    "        \"P\": Y_pred\n",
    "    })\n",
    "submission.to_csv('sample_submission.csv', index=False)"
   ]
  },
  {
   "cell_type": "code",
   "execution_count": null,
   "metadata": {},
   "outputs": [],
   "source": []
  }
 ],
 "metadata": {
  "kernelspec": {
   "display_name": "Python 2",
   "language": "python",
   "name": "python2"
  },
  "language_info": {
   "codemirror_mode": {
    "name": "ipython",
    "version": 2
   },
   "file_extension": ".py",
   "mimetype": "text/x-python",
   "name": "python",
   "nbconvert_exporter": "python",
   "pygments_lexer": "ipython2",
   "version": "2.7.12"
  }
 },
 "nbformat": 4,
 "nbformat_minor": 2
}
